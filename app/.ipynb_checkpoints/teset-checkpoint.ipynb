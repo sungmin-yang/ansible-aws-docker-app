{
 "cells": [
  {
   "cell_type": "code",
   "execution_count": 1,
   "id": "13a8a648",
   "metadata": {},
   "outputs": [],
   "source": [
    "!source .env"
   ]
  },
  {
   "cell_type": "code",
   "execution_count": 3,
   "id": "8b808a38",
   "metadata": {},
   "outputs": [
    {
     "ename": "ModuleNotFoundError",
     "evalue": "No module named 'stock_api_logger'",
     "output_type": "error",
     "traceback": [
      "\u001b[0;31m---------------------------------------------------------------------------\u001b[0m",
      "\u001b[0;31mModuleNotFoundError\u001b[0m                       Traceback (most recent call last)",
      "Input \u001b[0;32mIn [3]\u001b[0m, in \u001b[0;36m<module>\u001b[0;34m\u001b[0m\n\u001b[1;32m      4\u001b[0m \u001b[38;5;28;01mfrom\u001b[39;00m \u001b[38;5;21;01mflask\u001b[39;00m \u001b[38;5;28;01mimport\u001b[39;00m render_template, flash, redirect, request, url_for, send_from_directory\n\u001b[1;32m      5\u001b[0m \u001b[38;5;28;01mimport\u001b[39;00m \u001b[38;5;21;01mpandas\u001b[39;00m \u001b[38;5;28;01mas\u001b[39;00m \u001b[38;5;21;01mpd\u001b[39;00m\n\u001b[0;32m----> 7\u001b[0m \u001b[38;5;28;01mimport\u001b[39;00m \u001b[38;5;21;01mapp\u001b[39;00m\u001b[38;5;21;01m.\u001b[39;00m\u001b[38;5;21;01mutils\u001b[39;00m\n\u001b[1;32m      8\u001b[0m \u001b[38;5;28;01mfrom\u001b[39;00m \u001b[38;5;21;01mapp\u001b[39;00m\u001b[38;5;21;01m.\u001b[39;00m\u001b[38;5;21;01mstockDB\u001b[39;00m \u001b[38;5;28;01mimport\u001b[39;00m StockDB\n\u001b[1;32m      9\u001b[0m \u001b[38;5;28;01mfrom\u001b[39;00m \u001b[38;5;21;01mapp\u001b[39;00m\u001b[38;5;21;01m.\u001b[39;00m\u001b[38;5;21;01mstockAPI\u001b[39;00m \u001b[38;5;28;01mimport\u001b[39;00m StockAPI\n",
      "File \u001b[0;32m~/Desktop/job-application/swedbank/ansible-aws-docker-app/app/utils.py:4\u001b[0m, in \u001b[0;36m<module>\u001b[0;34m\u001b[0m\n\u001b[1;32m      2\u001b[0m \u001b[38;5;28;01mfrom\u001b[39;00m \u001b[38;5;21;01mflask\u001b[39;00m \u001b[38;5;28;01mimport\u001b[39;00m Flask, render_template\n\u001b[1;32m      3\u001b[0m \u001b[38;5;28;01mfrom\u001b[39;00m \u001b[38;5;21;01mflask_sqlalchemy\u001b[39;00m \u001b[38;5;28;01mimport\u001b[39;00m SQLAlchemy\n\u001b[0;32m----> 4\u001b[0m \u001b[38;5;28;01mimport\u001b[39;00m \u001b[38;5;21;01mstock_api_logger\u001b[39;00m\n\u001b[1;32m      6\u001b[0m logger \u001b[38;5;241m=\u001b[39m stock_api_logger\u001b[38;5;241m.\u001b[39mlog_factory()\u001b[38;5;241m.\u001b[39mgetLogger()\n\u001b[1;32m      8\u001b[0m \u001b[38;5;28;01mdef\u001b[39;00m \u001b[38;5;21mget_flask_app\u001b[39m(user: \u001b[38;5;28mstr\u001b[39m,\n\u001b[1;32m      9\u001b[0m                   passwd: \u001b[38;5;28mstr\u001b[39m,\n\u001b[1;32m     10\u001b[0m                   host: \u001b[38;5;28mstr\u001b[39m,\n\u001b[1;32m     11\u001b[0m                   port: \u001b[38;5;28mint\u001b[39m,\n\u001b[1;32m     12\u001b[0m                   db: \u001b[38;5;28mstr\u001b[39m,\n\u001b[1;32m     13\u001b[0m                   app_key: \u001b[38;5;28mstr\u001b[39m) \u001b[38;5;241m-\u001b[39m\u001b[38;5;241m>\u001b[39m Flask:\n",
      "\u001b[0;31mModuleNotFoundError\u001b[0m: No module named 'stock_api_logger'"
     ]
    }
   ],
   "source": [
    "import os, argparse\n",
    "import time\n",
    "\n",
    "from flask import render_template, flash, redirect, request, url_for, send_from_directory\n",
    "import pandas as pd\n",
    "\n",
    "import app.utils\n",
    "from app.stockDB import StockDB\n",
    "from app.stockAPI import StockAPI\n",
    "\n",
    "from app.constants import (\n",
    "POSTGRES_USER,\n",
    "POSTGRES_PASSWORD,\n",
    "POSTGRES_HOST,\n",
    "POSTGRES_PORT,\n",
    "POSTGRES_DB,\n",
    "APP_KEY,\n",
    "STOCK_API_KEY\n",
    ")\n",
    "\n",
    "\n",
    "\n",
    "\n",
    "SAMPLE_N_ROWS = 30\n",
    "logger = stock_api_logger.log_factory().getLogger()\n",
    "\n",
    "\n",
    "\n",
    "# ---------------------  Model(Table) is dependent on above methods ---------------------\n",
    "app = utils.get_flask_app(POSTGRES_USER,\n",
    "                          POSTGRES_PASSWORD,\n",
    "                          POSTGRES_HOST,\n",
    "                          POSTGRES_PORT,\n",
    "                          POSTGRES_DB,\n",
    "                          APP_KEY)\n",
    "\n",
    "from models import db, Students  # Require db object\n",
    "db.init_app(app)\n",
    "\n",
    "\n",
    "\n",
    "\n",
    "def get_stockAPI() -> StockAPI:\n",
    "    stock_api = StockAPI(access_key=STOCK_API_KEY,\n",
    "                         company_symbol=args.target_company,\n",
    "                         date_from=args.date_from,\n",
    "                         date_to=args.date_to)\n",
    "    stock_api.get_api_result()\n",
    "    stock_api.transform_to_dataframe()\n",
    "    stock_api.save_dataframe_to_csv(\"data/ec2_generated.csv\")\n",
    "    return stock_api\n",
    "\n",
    "\n",
    "# ---------------------  Web page rendering  END ---------------------\n",
    "# ---------------------  Web page rendering  END ---------------------\n",
    "# ---------------------  Web page rendering  END ---------------------\n",
    "\n",
    "\n",
    "\n",
    "utils.setup_database(app, db)\n",
    "\n",
    "\n",
    "\n",
    "stock_api = get_stockAPI()\n"
   ]
  },
  {
   "cell_type": "code",
   "execution_count": null,
   "id": "ee9553f7",
   "metadata": {},
   "outputs": [],
   "source": []
  }
 ],
 "metadata": {
  "kernelspec": {
   "display_name": "Python 3 (ipykernel)",
   "language": "python",
   "name": "python3"
  },
  "language_info": {
   "codemirror_mode": {
    "name": "ipython",
    "version": 3
   },
   "file_extension": ".py",
   "mimetype": "text/x-python",
   "name": "python",
   "nbconvert_exporter": "python",
   "pygments_lexer": "ipython3",
   "version": "3.8.6"
  }
 },
 "nbformat": 4,
 "nbformat_minor": 5
}
